{
 "cells": [
  {
   "cell_type": "markdown",
   "metadata": {},
   "source": [
    "# Noise2Self for Neural Nets\n",
    "\n",
    "This is a simple notebook demonstrating the principle of using self-supervision to train denoising networks.\n",
    "\n",
    "For didactic purposes, we use a simple dataset (Gaussian noise on MNIST), a simple model (a small UNet), and a short training (100 iterations on a CPU). This notebook runs on a MacBook Pro in under one minute."
   ]
  },
  {
   "cell_type": "code",
   "execution_count": null,
   "metadata": {},
   "outputs": [],
   "source": [
    "%gui qt"
   ]
  },
  {
   "cell_type": "code",
   "execution_count": null,
   "metadata": {},
   "outputs": [],
   "source": [
    "import sys\n",
    "sys.path.append(\"..\")"
   ]
  },
  {
   "cell_type": "code",
   "execution_count": null,
   "metadata": {},
   "outputs": [],
   "source": [
    "from util import show, plot_images, plot_tensors"
   ]
  },
  {
   "cell_type": "markdown",
   "metadata": {},
   "source": [
    "# Data"
   ]
  },
  {
   "cell_type": "markdown",
   "metadata": {},
   "source": [
    "We demonstrate the use of a self-supervised denoising objective on a synthetically noised version of MNIST."
   ]
  },
  {
   "cell_type": "code",
   "execution_count": null,
   "metadata": {},
   "outputs": [],
   "source": [
    "import numpy as np\n",
    "\n",
    "from torchvision.datasets import MNIST\n",
    "from torchvision import transforms\n",
    "from torch.utils.data import Dataset\n",
    "\n",
    "mnist_train = MNIST('../data/MNIST', download = True,\n",
    "                    transform = transforms.Compose([\n",
    "                        transforms.ToTensor(),\n",
    "                    ]), train = True)\n",
    "\n",
    "mnist_test = MNIST('../data/MNIST', download = True,\n",
    "                    transform = transforms.Compose([\n",
    "                        transforms.ToTensor(),\n",
    "                    ]), train = False)"
   ]
  },
  {
   "cell_type": "code",
   "execution_count": null,
   "metadata": {},
   "outputs": [],
   "source": [
    "from torch import randn\n",
    "def add_noise(img):\n",
    "    return img + randn(img.size())*0.4\n",
    "\n",
    "class SyntheticNoiseDataset(Dataset):\n",
    "    def __init__(self, data, mode='train'):\n",
    "        self.mode = mode\n",
    "        self.data = data\n",
    "        \n",
    "    def __len__(self):\n",
    "        return len(self.data)\n",
    "    \n",
    "    def __getitem__(self, index):\n",
    "        img = self.data[index][0]\n",
    "        return add_noise(img), img"
   ]
  },
  {
   "cell_type": "code",
   "execution_count": null,
   "metadata": {},
   "outputs": [],
   "source": [
    "noisy_mnist_train = SyntheticNoiseDataset(mnist_train, 'train')\n",
    "noisy_mnist_test = SyntheticNoiseDataset(mnist_test, 'test')"
   ]
  },
  {
   "cell_type": "markdown",
   "metadata": {},
   "source": [
    "We will try to learn to predict the clean image on the right from the noisy image on the left."
   ]
  },
  {
   "cell_type": "code",
   "execution_count": null,
   "metadata": {},
   "outputs": [],
   "source": [
    "noisy, clean = noisy_mnist_train[0]\n",
    "plot_tensors([noisy[0], clean[0]], ['Noisy Image', 'Clean Image'])"
   ]
  },
  {
   "cell_type": "markdown",
   "metadata": {},
   "source": [
    "# Masking\n",
    "\n",
    "The strategy is to train a $J$-invariant version of a neural net by replacing a grid of pixels with the average of their neighbors, then only evaluating the model on the masked pixels."
   ]
  },
  {
   "cell_type": "code",
   "execution_count": null,
   "metadata": {},
   "outputs": [],
   "source": [
    "from mask import Masker\n",
    "masker = Masker(width = 4, mode='interpolate')"
   ]
  },
  {
   "cell_type": "code",
   "execution_count": null,
   "metadata": {},
   "outputs": [],
   "source": [
    "net_input, mask = masker.mask(noisy.unsqueeze(0), 0)"
   ]
  },
  {
   "cell_type": "markdown",
   "metadata": {},
   "source": [
    "A mask; the data; the input to the neural net, which doesn't depend on the values of $x$ inside the mask; and the difference between the neural net input and $x$."
   ]
  },
  {
   "cell_type": "code",
   "execution_count": null,
   "metadata": {},
   "outputs": [],
   "source": [
    "plot_tensors([mask, noisy[0], net_input[0], net_input[0] - noisy[0]],\n",
    "            [\"Mask\", \"Noisy Image\", \"Neural Net Input\", \"Difference\"])"
   ]
  },
  {
   "cell_type": "markdown",
   "metadata": {},
   "source": [
    "# Model"
   ]
  },
  {
   "cell_type": "markdown",
   "metadata": {},
   "source": [
    "For our model, we use a short UNet with two levels of up- and down- sampling"
   ]
  },
  {
   "cell_type": "code",
   "execution_count": null,
   "metadata": {},
   "outputs": [],
   "source": [
    "from models.babyunet import BabyUnet\n",
    "model = BabyUnet()"
   ]
  },
  {
   "cell_type": "markdown",
   "metadata": {},
   "source": [
    "# Training"
   ]
  },
  {
   "cell_type": "code",
   "execution_count": null,
   "metadata": {},
   "outputs": [],
   "source": [
    "from torch.nn import MSELoss\n",
    "from torch.optim import Adam\n",
    "from torch.utils.data import DataLoader\n",
    "\n",
    "loss_function = MSELoss()\n",
    "optimizer = Adam(model.parameters(), lr=0.001)"
   ]
  },
  {
   "cell_type": "markdown",
   "metadata": {},
   "source": [
    "# Visualization"
   ]
  },
  {
   "cell_type": "markdown",
   "metadata": {},
   "source": [
    "We lazily convert the torch tensors to NumPy arrays and concatenate them into dask arrays containing all the data. We do this for the training (noisy) data, the ground truth, and the model output.\n",
    "\n",
    "There's a bit of reshaping because torch data comes with extra dimensions that we want to squeeze out, to only get a `(nsamples, size_y, size_x)` volume."
   ]
  },
  {
   "cell_type": "code",
   "execution_count": null,
   "metadata": {},
   "outputs": [],
   "source": [
    "import dask\n",
    "import dask.array as da\n",
    "\n",
    "noisy_test_dask = da.stack(\n",
    "    [\n",
    "        da.from_delayed(\n",
    "            dask.delayed(lambda i: noisy_mnist_test[i][0].detach().numpy())(i),\n",
    "            shape=(1, 28, 28),\n",
    "            dtype=np.float32\n",
    "        ).reshape((28, 28))\n",
    "        for i in range(len(noisy_mnist_test))\n",
    "    ]\n",
    ")\n",
    "\n",
    "clean_test_dask = da.stack(\n",
    "    [\n",
    "        da.from_delayed(\n",
    "            dask.delayed(lambda i: noisy_mnist_test[i][1].detach().numpy())(i),\n",
    "            shape=(1, 28, 28),\n",
    "            dtype=np.float32\n",
    "        ).reshape((28, 28))\n",
    "        for i in range(len(noisy_mnist_test))\n",
    "    ]\n",
    ")"
   ]
  },
  {
   "cell_type": "code",
   "execution_count": null,
   "metadata": {},
   "outputs": [],
   "source": [
    "import torch\n",
    "\n",
    "def test_numpy_to_result_numpy(i):\n",
    "    \"\"\"Convert test NumPy array to model output and back to NumPy.\"\"\"\n",
    "    out = model(\n",
    "        torch.Tensor(np.array(noisy_test_dask[i:i+1, np.newaxis]))\n",
    "    ).detach().numpy().squeeze()\n",
    "    return out\n",
    "\n",
    "# build the results dask array\n",
    "model_output_dask = da.stack(\n",
    "    [\n",
    "        da.from_delayed(\n",
    "            dask.delayed(test_numpy_to_result_numpy)(i),\n",
    "            shape=(28, 28),\n",
    "            dtype=np.float32\n",
    "        )\n",
    "        for i in range(len(noisy_mnist_test))\n",
    "    ]\n",
    ")"
   ]
  },
  {
   "cell_type": "markdown",
   "metadata": {},
   "source": [
    "Build the napari viewer for all three volumes simultaneously:"
   ]
  },
  {
   "cell_type": "code",
   "execution_count": null,
   "metadata": {},
   "outputs": [],
   "source": [
    "import napari\n",
    "\n",
    "\n",
    "viewer = napari.Viewer()\n",
    "_ = viewer.add_image(clean_test_dask)  # returns layer, we don't care\n",
    "_ = viewer.add_image(noisy_test_dask)\n",
    "model_layer = viewer.add_image(\n",
    "    model_output_dask,\n",
    "    contrast_limits=(\n",
    "        np.min(noisy_test_dask[0:10]).compute(),\n",
    "        np.max(noisy_test_dask[0:10]).compute()\n",
    "    )\n",
    ")  # this layer though, we're gonna play with\n",
    "viewer.grid_view()"
   ]
  },
  {
   "cell_type": "markdown",
   "metadata": {},
   "source": [
    "We turn off dask caching because we want the model to re-evaluate each time we view a model output."
   ]
  },
  {
   "cell_type": "code",
   "execution_count": null,
   "metadata": {},
   "outputs": [],
   "source": [
    "from napari.utils import resize_dask_cache\n",
    "resize_dask_cache(0)"
   ]
  },
  {
   "cell_type": "markdown",
   "metadata": {},
   "source": [
    "Finally, build a loss plot and refresh the viewer on each batch:"
   ]
  },
  {
   "cell_type": "code",
   "execution_count": null,
   "metadata": {},
   "outputs": [],
   "source": [
    "from napari.qt import thread_worker\n",
    "from matplotlib.backends.backend_qt5agg import FigureCanvas\n",
    "from matplotlib.figure import Figure\n",
    "\n",
    "NUM_ITER = 100\n",
    "\n",
    "\n",
    "# build the plot, but don't display it yet\n",
    "# — we'll add it to the napari viewer later\n",
    "with plt.style.context('dark_background'):\n",
    "    loss_canvas = FigureCanvas(Figure(figsize=(5, 3)))\n",
    "    loss_axes = loss_canvas.figure.subplots()\n",
    "    lines = loss_axes.plot([], [])  # make empty plot\n",
    "    loss_axes.set_xlim(0, NUM_ITER)\n",
    "    loss_axes.set_xlabel('batch number')\n",
    "    loss_axes.set_ylabel('loss')\n",
    "    loss_canvas.figure.tight_layout()\n",
    "    loss_line = lines[0]\n",
    "\n",
    "\n",
    "# when getting a new loss, update the plot\n",
    "def update_plot(loss):\n",
    "    x, y = loss_line.get_data()\n",
    "    new_y = np.append(y, loss)\n",
    "    new_x = np.arange(len(new_y))\n",
    "    loss_line.set_data(new_x, new_y)\n",
    "    loss_axes.set_ylim(\n",
    "        np.min(new_y) * (-0.05), np.max(new_y) * (1.05)\n",
    "    )\n",
    "    loss_canvas.draw()\n",
    "\n",
    "\n",
    "# and update the model output layer\n",
    "def update_viewer(loss):\n",
    "    model_layer.refresh()\n",
    "    viewer.help = f'loss: {loss}'\n",
    "\n",
    "\n",
    "# define a function to train the model in a new thread,\n",
    "# connecting the yielded loss values to our update functions\n",
    "@thread_worker(connect={'yielded': [update_viewer, update_plot]})\n",
    "def train(model, data_loader, n_iter):\n",
    "\n",
    "    for i, batch in zip(range(n_iter), data_loader):\n",
    "        noisy_images, clean_images = batch\n",
    "\n",
    "        net_input, mask = masker.mask(noisy_images, i)\n",
    "        net_output = model(net_input)\n",
    "\n",
    "        loss = loss_function(net_output*mask, noisy_images*mask)\n",
    "\n",
    "        optimizer.zero_grad()\n",
    "\n",
    "        loss.backward()\n",
    "\n",
    "        optimizer.step()\n",
    "\n",
    "        yield round(loss.item(), 4)\n",
    "\n",
    "\n",
    "# finally, add the plot to the viewer, and start training!\n",
    "data_loader = DataLoader(noisy_mnist_train, batch_size=32, shuffle=True)\n",
    "\n",
    "viewer.window.add_dock_widget(loss_canvas)\n",
    "worker = train(model, data_loader, NUM_ITER)"
   ]
  },
  {
   "cell_type": "code",
   "execution_count": null,
   "metadata": {},
   "outputs": [],
   "source": [
    "from napari.utils import nbscreenshot\n",
    "\n",
    "nbscreenshot(viewer)"
   ]
  },
  {
   "cell_type": "markdown",
   "metadata": {},
   "source": [
    "# J-invariant reconstruction"
   ]
  },
  {
   "cell_type": "markdown",
   "metadata": {},
   "source": [
    "With our trained model, we have a choice. We may do a full $J$-invariant reconstruction, or we may just run the noisy data through the network unaltered."
   ]
  },
  {
   "cell_type": "code",
   "execution_count": null,
   "metadata": {},
   "outputs": [],
   "source": [
    "test_data_loader = DataLoader(noisy_mnist_test,\n",
    "                                              batch_size=32,\n",
    "                                              shuffle=False,\n",
    "                                              num_workers=3)\n",
    "i, test_batch = next(enumerate(test_data_loader))\n",
    "noisy, clean = test_batch"
   ]
  },
  {
   "cell_type": "code",
   "execution_count": null,
   "metadata": {},
   "outputs": [],
   "source": [
    "simple_output = model(noisy)\n",
    "invariant_output = masker.infer_full_image(noisy, model)"
   ]
  },
  {
   "cell_type": "code",
   "execution_count": null,
   "metadata": {},
   "outputs": [],
   "source": [
    "type(simple_output)"
   ]
  },
  {
   "cell_type": "code",
   "execution_count": null,
   "metadata": {},
   "outputs": [],
   "source": [
    "np.asarray(simple_output)"
   ]
  },
  {
   "cell_type": "markdown",
   "metadata": {},
   "source": [
    "`torch.Tensor.__array__` is hampered because the developers want to prevent accidentally dropping gradient. See:\n",
    "\n",
    "https://discuss.pytorch.org/t/should-it-really-be-necessary-to-do-var-detach-cpu-numpy/35489\n",
    "\n",
    "For demo purposes, we increase the magic of torch Tensors."
   ]
  },
  {
   "cell_type": "code",
   "execution_count": null,
   "metadata": {},
   "outputs": [],
   "source": [
    "import torch"
   ]
  },
  {
   "cell_type": "code",
   "execution_count": null,
   "metadata": {},
   "outputs": [],
   "source": [
    "def array(self, dtype=None):\n",
    "    if dtype is None:\n",
    "        return self.detach().numpy()\n",
    "    else:\n",
    "        return self.detach().numpy().astype(dtype, copy=False)\n",
    "\n",
    "torch.Tensor.__array__ = array"
   ]
  },
  {
   "cell_type": "code",
   "execution_count": null,
   "metadata": {},
   "outputs": [],
   "source": [
    "np.array(simple_output)"
   ]
  },
  {
   "cell_type": "code",
   "execution_count": null,
   "metadata": {},
   "outputs": [],
   "source": [
    "import napari\n",
    "\n",
    "viewer = napari.Viewer()\n",
    "\n",
    "viewer.add_image(\n",
    "    noisy, name='noisy',\n",
    "    contrast_limits=[-1.5, 2.5],\n",
    ")\n",
    "viewer.add_image(\n",
    "    simple_output, name='simple output',\n",
    "    contrast_limits=[-0.5, 1.5],\n",
    ")\n",
    "viewer.add_image(\n",
    "    invariant_output, name='j-invariant output',\n",
    "    contrast_limits=[-0.5, 1.5],\n",
    ")"
   ]
  },
  {
   "cell_type": "markdown",
   "metadata": {},
   "source": [
    "While both the simple and invariant output are significantly denoised, the invariant output has a mild pixelation. \n",
    "\n",
    "This is due to the fact that neighboring pixels are denoised using different information, leading to discontinuities in the reconstructed output."
   ]
  }
 ],
 "metadata": {
  "kernelspec": {
   "display_name": "Python 3",
   "language": "python",
   "name": "python3"
  },
  "language_info": {
   "codemirror_mode": {
    "name": "ipython",
    "version": 3
   },
   "file_extension": ".py",
   "mimetype": "text/x-python",
   "name": "python",
   "nbconvert_exporter": "python",
   "pygments_lexer": "ipython3",
   "version": "3.8.2"
  }
 },
 "nbformat": 4,
 "nbformat_minor": 2
}
